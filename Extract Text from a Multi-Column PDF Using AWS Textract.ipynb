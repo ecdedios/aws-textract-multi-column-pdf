{
 "cells": [
  {
   "cell_type": "code",
   "execution_count": 1,
   "id": "9055869d",
   "metadata": {},
   "outputs": [],
   "source": [
    "import boto3"
   ]
  },
  {
   "cell_type": "code",
   "execution_count": 2,
   "id": "ab927260",
   "metadata": {},
   "outputs": [],
   "source": [
    "# Document\n",
    "s3BucketName = \"aws-textract-multi-column-pdf\"\n",
    "documentName = \"Scanned - Multi-column Single Page Document.pdf\""
   ]
  },
  {
   "cell_type": "code",
   "execution_count": 3,
   "id": "8c6066ef",
   "metadata": {},
   "outputs": [],
   "source": [
    "# Amazon Textract client\n",
    "textract = boto3.client('textract')"
   ]
  },
  {
   "cell_type": "code",
   "execution_count": 4,
   "id": "b4127859",
   "metadata": {},
   "outputs": [],
   "source": [
    "# Call Amazon Textract\n",
    "response = textract.detect_document_text(\n",
    "    Document={\n",
    "        'S3Object': {\n",
    "            'Bucket': s3BucketName,\n",
    "            'Name': documentName\n",
    "        }\n",
    "    })\n",
    "\n",
    "#print(response)"
   ]
  },
  {
   "cell_type": "code",
   "execution_count": 5,
   "id": "5185cae2",
   "metadata": {},
   "outputs": [],
   "source": [
    "# Detect columns and print lines\n",
    "columns = []\n",
    "lines = []\n",
    "for item in response[\"Blocks\"]:\n",
    "      if item[\"BlockType\"] == \"LINE\":\n",
    "        column_found=False\n",
    "        for index, column in enumerate(columns):\n",
    "            bbox_left = item[\"Geometry\"][\"BoundingBox\"][\"Left\"]\n",
    "            bbox_right = item[\"Geometry\"][\"BoundingBox\"][\"Left\"] + item[\"Geometry\"][\"BoundingBox\"][\"Width\"]\n",
    "            bbox_centre = item[\"Geometry\"][\"BoundingBox\"][\"Left\"] + item[\"Geometry\"][\"BoundingBox\"][\"Width\"]/2\n",
    "            column_centre = column['left'] + column['right']/2\n",
    "\n",
    "            if (bbox_centre > column['left'] and bbox_centre < column['right']) or (column_centre > bbox_left and column_centre < bbox_right):\n",
    "                #Bbox appears inside the column\n",
    "                lines.append([index, item[\"Text\"]])\n",
    "                column_found=True\n",
    "                break\n",
    "        if not column_found:\n",
    "            columns.append({'left':item[\"Geometry\"][\"BoundingBox\"][\"Left\"], 'right':item[\"Geometry\"][\"BoundingBox\"][\"Left\"] + item[\"Geometry\"][\"BoundingBox\"][\"Width\"]})\n",
    "            lines.append([len(columns)-1, item[\"Text\"]])"
   ]
  },
  {
   "cell_type": "code",
   "execution_count": 6,
   "id": "f5fdbf11",
   "metadata": {},
   "outputs": [
    {
     "name": "stdout",
     "output_type": "stream",
     "text": [
      "2\n"
     ]
    }
   ],
   "source": [
    "print(len(columns))"
   ]
  },
  {
   "cell_type": "markdown",
   "id": "b5cd5560",
   "metadata": {},
   "source": [
    "I added the \"reverse=True\" as a parameter in line.sort()"
   ]
  },
  {
   "cell_type": "code",
   "execution_count": 7,
   "id": "9ebb7b45",
   "metadata": {},
   "outputs": [
    {
     "name": "stdout",
     "output_type": "stream",
     "text": [
      "Neque porro quisquam est\n",
      "qui dolorem ipsum quia\n",
      "dolor sit amet,\n",
      "consectetur, adipisci\n",
      "velit\n",
      "Lorem ipsum dolor sit amet, consectetur\n",
      "adipiscing elit, sed do eiusmod tempor\n",
      "incididunt ut labore et dolore magna aliqua. Ut\n",
      "enim ad minim veniam, quis nostrud\n",
      "exercitation ullamco laboris nisi ut aliquip ex\n",
      "ea commodo consequat. Duis aute irure dolor\n",
      "in reprehenderit in voluptate velit esse cillum\n",
      "dolore eu fugiat nulla pariatur. Excepteur sint\n",
      "occaecat cupidatat non proident, sunt in culpa\n",
      "qui officia deserunt mollit anim id est laborum.\n",
      "Sed ut perspiciatis unde omnis iste natus error\n",
      "sit voluptatem accusantium doloremque\n",
      "laudantium, totam rem aperiam, eaque ipsa\n",
      "quae ab illo inventore veritatis et quasi\n",
      "architecto beatae vitae dicta sunt explicabo.\n",
      "Nemo enim ipsam voluptatem quia voluptas\n",
      "sit aspernatur aut odit aut fugit, sed quia\n",
      "consequuntur magni dolores eos qui ratione\n",
      "voluptatem sequi nesciunt. Neque porro\n",
      "quisquam est, qui dolorem ipsum quia dolor\n",
      "sit amet, consectetur, adipisci velit, sed quia\n",
      "non numquam eius modi tempora incidunt ut\n",
      "labore et dolore magnam aliquam quaerat\n",
      "voluptatem. Ut enim ad minima veniam, quis\n",
      "nostrum exercitationem ullam corporis suscipit\n",
      "laboriosam, nisi ut aliquid ex ea commodi\n",
      "consequatur? Quis autem vel eum iure\n",
      "reprehenderit qui in ea voluptate velit esse\n",
      "quam nihil molestiae consequatur, vel illum\n",
      "qui dolorem eum fugiat quo voluptas nulla\n",
      "pariatur?\n",
      "At vero eos et accusamus et iusto odio\n",
      "dignissimos ducimus qui blanditiis\n",
      "praesentium voluptatum deleniti atque corrupti\n",
      "quos dolores et quas molestias excepturi sint\n",
      "occaecati cupiditate non provident, similique\n",
      "sunt in culpa qui officia deserunt mollitia\n",
      "animi, id est laborum et dolorum fuga. Et\n",
      "harum quidem rerum facilis est et expedita\n",
      "distinctio. Nam libero tempore, cum soluta\n",
      "nobis est eligendi optio cumque nihil impedit\n",
      "quo minus id quod maxime placeat facere\n",
      "possimus, omnis voluptas assumenda est,\n",
      "omnis dolor repellendus. Temporibus autem\n",
      "quibusdam et aut officiis debitis aut rerum\n",
      "necessitatibus saepe eveniet ut et voluptates\n",
      "repudiandae sint et molestiae non\n",
      "recusandae. Itaque earum rerum hic tenetur a\n",
      "sapiente delectus, ut aut reiciendis\n",
      "voluptatibus maiores alias consequatur aut\n",
      "perferendis doloribus asperiores repellat.\n",
      "Visit https://blog.ednalyn.com for more\n",
      "tutorials about data science, natural language\n",
      "processing, optical character recognition, and\n",
      "computer vision.\n"
     ]
    }
   ],
   "source": [
    "lines.sort(key=lambda x: x[0], reverse=True)\n",
    "for line in lines:\n",
    "    print (line[1])"
   ]
  },
  {
   "cell_type": "code",
   "execution_count": null,
   "id": "870ee83e",
   "metadata": {},
   "outputs": [],
   "source": []
  }
 ],
 "metadata": {
  "kernelspec": {
   "display_name": "Python 3 (ipykernel)",
   "language": "python",
   "name": "python3"
  },
  "language_info": {
   "codemirror_mode": {
    "name": "ipython",
    "version": 3
   },
   "file_extension": ".py",
   "mimetype": "text/x-python",
   "name": "python",
   "nbconvert_exporter": "python",
   "pygments_lexer": "ipython3",
   "version": "3.9.9"
  }
 },
 "nbformat": 4,
 "nbformat_minor": 5
}
